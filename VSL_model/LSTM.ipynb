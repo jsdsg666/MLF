{
 "cells": [
  {
   "cell_type": "code",
   "execution_count": 1,
   "outputs": [],
   "source": [
    "import warnings\n",
    "warnings.filterwarnings(\"ignore\")\n",
    "import numpy as np\n",
    "import pandas as pd\n",
    "pd.set_option('display.max_columns', None)\n",
    "pd.set_option('display.max_rows', None)\n",
    "%matplotlib inline\n",
    "import  matplotlib.pyplot as plt\n",
    "import torch\n",
    "from torch import  nn,optim\n",
    "import warnings\n",
    "warnings.filterwarnings(\"ignore\")\n",
    "import numpy as np\n",
    "import pandas as pd\n",
    "pd.set_option('display.max_columns', None)\n",
    "pd.set_option('display.max_rows', None)\n",
    "%matplotlib inline\n",
    "import  matplotlib.pyplot as plt\n",
    "import joblib\n",
    "from sklearn.metrics import mean_absolute_percentage_error\n",
    "import random\n",
    "import torch\n",
    "import os\n",
    "\n",
    "def seed_everything(seed):\n",
    "    random.seed(seed)\n",
    "    os.environ['PYTHONHASHSEED'] = str(seed)\n",
    "    np.random.seed(seed)\n",
    "    torch.manual_seed(seed)\n",
    "    torch.cuda.manual_seed(seed)\n",
    "    torch.cuda.manual_seed_all(seed)\n",
    "    torch.backends.cudnn.deterministic = True\n",
    "seed_everything(seed=521)"
   ],
   "metadata": {
    "collapsed": false
   }
  },
  {
   "cell_type": "code",
   "execution_count": 2,
   "outputs": [],
   "source": [
    "train= pd.read_excel('../dataset/pre_train.xlsx')\n",
    "test= pd.read_excel('../dataset/pre_test.xlsx')\n",
    "\n",
    "ind=[i for i in train.columns][1:-1]\n",
    "#1  离群点删除\n",
    "def opt(opt_rate,df,threshold):\n",
    "    AQindex=[]\n",
    "    train=df\n",
    "    threshold_num=threshold*len(df)\n",
    "    for inx in ind:\n",
    "        max=train.loc[:, inx].max()\n",
    "        min=train.loc[:, inx].min()\n",
    "        diff=max-min\n",
    "        diffmin=min+opt_rate*diff\n",
    "        diffmax=min+(1-opt_rate)*diff\n",
    "        minlist=train[train[inx] < diffmin].index.values.tolist()\n",
    "        maxlist=train[train[inx] > diffmax].index.values.tolist()\n",
    "\n",
    "        if len(minlist) <= threshold_num:\n",
    "            # print(f'min{inx}')\n",
    "            # print(len(minlist))\n",
    "            for minindex in train[train[inx] < diffmin].index.values.tolist():\n",
    "                AQindex.append(minindex)\n",
    "\n",
    "        if len(maxlist) <= threshold_num:\n",
    "            # print(f'max{inx}')\n",
    "            # print(len(maxlist))\n",
    "            for maxindex in train[train[inx] > diffmax].index.values.tolist():\n",
    "                AQindex.append(maxindex)\n",
    "    AQindex=list(set(AQindex))\n",
    "    # print(AQindex)\n",
    "    AQindex=sorted(AQindex)\n",
    "    return AQindex\n",
    "optindex=opt(opt_rate=0.1,df=train,threshold=0.015)\n",
    "train=train.drop(index=optindex).reset_index(drop=True)\n",
    "\n",
    "data = pd.concat([train,test]).reset_index(drop=True)\n",
    "\n",
    "#2  时间特征\n",
    "def add_datetime_feats(df):\n",
    "    df['time'] = pd.to_datetime(df['time'])\n",
    "    # df['year']=df['year'].dt.year  # 获取年\n",
    "    # df['month']=df['month'].dt.month  # 获取月\n",
    "    # df['day'] = df['time'].dt.day       # 获取天\n",
    "    df['hour'] = df['time'].dt.hour\n",
    "    df['minute']=df['time'].dt.minute  # 获取分钟\n",
    "    df['weekday']=df['time'].dt.weekday\n",
    "    df['ts']=df['hour']*60+df['minute']  # 判断是一年的第几个季度\n",
    "    return df\n",
    "data= add_datetime_feats(data)\n",
    "\n",
    "#3 去除率指标\n",
    "data['Var_COD']=data['WI_COD']-data['WO_COD']\n",
    "data['Var_AN']=(data['WI_AN']-data['WO_AN'])\n",
    "data['Var_TN']=(data['WI_TN']-data['WO_TN'])\n",
    "data['Var_AR_DO']=data['AR_WODO']-data['AR_WIDO']\n",
    "data['Var_AR_AN']=(data['WI_AN']-data['AR_AN'])\n",
    "\n",
    "\n",
    "data['RM_COD']=(data['WI_COD']-data['WO_COD'])/data['WI_COD']\n",
    "data['RM_AN']=(data['WI_AN']-data['WO_AN'])/data['WI_AN']\n",
    "data['RM_TN']=(data['WI_TN']-data['WO_TN'])/data['WI_TN']\n",
    "data['RM_AR_DO']=(data['AR_WODO']-data['AR_WIDO'])/data['AR_WODO']\n",
    "data['RM_AR_AN']=(data['WI_AN']-data['AR_AN'])/data['WI_AN']\n",
    "\n",
    "\n",
    "\n",
    "#4 时序上的滚动特征\n",
    "roll_cols = ['WI_F',\n",
    " 'WI_T',\n",
    " 'WI_COD',\n",
    " 'WI_TN',\n",
    " 'WI_AN',\n",
    " 'WO_F',\n",
    " 'WO_T',\n",
    " 'WO_COD',\n",
    " 'WO_TN',\n",
    " 'WO_AN',\n",
    " 'AR_MLSS',\n",
    " 'AR_AN',\n",
    " 'AR_NN',\n",
    " 'AR_WIDO',\n",
    " 'AR_WODO',\n",
    " 'AR_F']\n",
    "for i in [j for j in range(1, 6)] + [10, 15, 20, 30, 60, 120]:\n",
    "    # data[[ii+f'_delta_{i}' for ii in roll_cols]] = data[roll_cols].diff(periods=i)\n",
    "    data[[ii+f'_mean_{i}' for ii in roll_cols]] = data[roll_cols].rolling(i, min_periods=1).mean()\n",
    "\n",
    "\n",
    "#根据方差只保留save_rate的特征数量\n",
    "pd.set_option(\"display.max_columns\", 100)\n",
    "save_rate = 0.8\n",
    "data = data[data.describe().T.sort_values(by=\"std\", ascending=False, inplace=False).iloc[: int(len(data.columns)*save_rate)].index.tolist()]\n",
    "\n",
    "train = data.iloc[:train.shape[0]].reset_index(drop=True)\n",
    "test = data.iloc[train.shape[0]:].reset_index(drop=True)\n",
    "\n",
    "\n",
    "\n"
   ],
   "metadata": {
    "collapsed": false
   }
  },
  {
   "cell_type": "code",
   "execution_count": 4,
   "outputs": [],
   "source": [
    "X_columns = [col for col in train.columns if col not in ['time','AQ','hour','minute','weekday','ts']]\n",
    "Y_columns =['AQ']\n",
    "\n",
    "x_train=train[X_columns]\n",
    "y_train=train[Y_columns]\n",
    "x_test=test[X_columns]\n",
    "y_test=test[Y_columns]"
   ],
   "metadata": {
    "collapsed": false
   }
  },
  {
   "cell_type": "code",
   "execution_count": 5,
   "outputs": [
    {
     "name": "stdout",
     "output_type": "stream",
     "text": [
      "*********************\n",
      "NVIDIA GeForce RTX 3070 Laptop GPU\n",
      "cuda:0\n"
     ]
    }
   ],
   "source": [
    "# device=torch.device(\"cpu\")\n",
    "device = torch.device(\"cuda:0\" if torch.cuda.is_available() else \"cpu\")\n",
    "print(\"*********************\")\n",
    "print(torch.cuda.get_device_name(0))\n",
    "print(device)"
   ],
   "metadata": {
    "collapsed": false
   }
  },
  {
   "cell_type": "code",
   "execution_count": 6,
   "outputs": [],
   "source": [
    "from sklearn.preprocessing import MinMaxScaler\n",
    "scaler1=MinMaxScaler(feature_range=(0.000000001,1))\n",
    "scaler2=MinMaxScaler(feature_range=(0.000000001,1))\n",
    "scaler3=MinMaxScaler(feature_range=(0.000000001,1))\n",
    "scaler4=MinMaxScaler(feature_range=(0.000000001,1))\n",
    "train_sca=pd.DataFrame()\n",
    "test_sca=pd.DataFrame()\n",
    "train_sca[X_columns]=scaler1.fit_transform(train[X_columns])\n",
    "train_sca[Y_columns]=scaler2.fit_transform(train[Y_columns])\n",
    "test_sca[X_columns]=scaler3.fit_transform(test[X_columns])\n",
    "test_sca[Y_columns]=scaler4.fit_transform(test[Y_columns])\n"
   ],
   "metadata": {
    "collapsed": false
   }
  },
  {
   "cell_type": "code",
   "execution_count": 8,
   "outputs": [],
   "source": [
    "input_size=len(X_columns)\n",
    "output_size=len(Y_columns)\n",
    "\n",
    "hidden_size=32\n",
    "num_layers=8\n",
    "\n",
    "seq=32\n",
    "batch_size=32\n",
    "\n",
    "epochs=10\n",
    "\n",
    "\n"
   ],
   "metadata": {
    "collapsed": false
   }
  },
  {
   "cell_type": "code",
   "execution_count": 9,
   "outputs": [
    {
     "data": {
      "text/plain": "pandas.core.frame.DataFrame"
     },
     "execution_count": 9,
     "metadata": {},
     "output_type": "execute_result"
    }
   ],
   "source": [
    "type(train_sca)"
   ],
   "metadata": {
    "collapsed": false
   }
  },
  {
   "cell_type": "code",
   "execution_count": 10,
   "outputs": [
    {
     "name": "stdout",
     "output_type": "stream",
     "text": [
      "torch.Size([12680, 31, 162])\n",
      "torch.Size([12680, 1])\n",
      "torch.Size([480, 31, 162])\n",
      "torch.Size([480, 1])\n"
     ]
    }
   ],
   "source": [
    "def split_data(train_sca,test_sca,seq,X_columns,Y_columns): #47预测1\n",
    "\n",
    "\n",
    "    data_raw=pd.concat([train_sca,test_sca])\n",
    "\n",
    "    data=[]\n",
    "    for index in range(len(data_raw)-seq):\n",
    "        data.append(data_raw[index:index+seq])\n",
    "    data=np.array(data)\n",
    "    # print(len(data))  #14640\n",
    "    test_set_size=len(test_sca)  #96\n",
    "    train_set_size=data.shape[0]-test_set_size\n",
    "\n",
    "    # 第一个-1是47预测1\n",
    "    #第二个1是不计time，-1是只预测AQ\n",
    "    x_train=data[:train_set_size,:-1,:len(X_columns)].astype('float32')\n",
    "    y_train=data[:train_set_size,-1,-len(Y_columns)].reshape(-1,len(Y_columns)).astype('float32')\n",
    "\n",
    "    x_test=data[train_set_size:,:-1,:len(X_columns)].astype('float32')\n",
    "    y_test=data[train_set_size:,-1,-len(Y_columns)].reshape(-1,len(Y_columns)).astype('float32')\n",
    "\n",
    "    def nptotorch(inputdata):\n",
    "        return torch.from_numpy(inputdata).to(device)\n",
    "    x_train_ts= nptotorch(x_train)\n",
    "    y_train_ts= nptotorch(y_train)\n",
    "    x_test_ts= nptotorch(x_test)\n",
    "    y_test_ts= nptotorch(y_test)\n",
    "\n",
    "    return [x_train_ts,y_train_ts,x_test_ts,y_test_ts]\n",
    "\n",
    "\n",
    "x_train_ts,y_train_ts,x_test_ts,y_test_ts=split_data(\n",
    "    train_sca=train_sca,\n",
    "    test_sca=test_sca,\n",
    "    seq=seq,\n",
    "    X_columns=X_columns,\n",
    "    Y_columns=Y_columns)\n",
    "print(x_train_ts.shape)\n",
    "print(y_train_ts.shape)\n",
    "print(x_test_ts.shape)\n",
    "print(y_test_ts.shape)"
   ],
   "metadata": {
    "collapsed": false
   }
  },
  {
   "cell_type": "code",
   "execution_count": 10,
   "outputs": [],
   "source": [
    "\n"
   ],
   "metadata": {
    "collapsed": false
   }
  },
  {
   "cell_type": "code",
   "execution_count": 11,
   "outputs": [],
   "source": [
    "import  torch.nn as nn\n",
    "class LSTM(nn.Module):\n",
    "    def __init__(self,input_size,hidden_size,num_layers,output_size):\n",
    "        super(LSTM,self).__init__()\n",
    "\n",
    "        self.input_size=input_size\n",
    "        self.hidden_size=hidden_size\n",
    "        self.num_layers=num_layers\n",
    "        self.output_size=output_size\n",
    "\n",
    "\n",
    "        self.lstm=nn.LSTM(self.input_size,self.hidden_size,self.num_layers,batch_first=True,dropout=0.5)\n",
    "        self.fc=nn.Linear(self.hidden_size,self.output_size)\n",
    "\n",
    "\n",
    "    def forward(self,train):\n",
    "        batch_size, seq_len = train.shape[0],train.shape[1]\n",
    "\n",
    "        h0=torch.zeros(self.num_layers,batch_size,self.hidden_size).to(device)\n",
    "        c0=torch.zeros(self.num_layers,batch_size,self.hidden_size).to(device)\n",
    "\n",
    "        out,(hn,cn)=self.lstm(train,(h0.detach(),c0.detach()))\n",
    "        out = self.fc(out)\n",
    "        output = out[:, -1,:]\n",
    "\n",
    "\n",
    "        return output"
   ],
   "metadata": {
    "collapsed": false
   }
  },
  {
   "cell_type": "code",
   "execution_count": 12,
   "outputs": [],
   "source": [
    "model =LSTM(input_size=input_size,hidden_size=hidden_size,output_size=output_size,num_layers=num_layers).to(device)\n",
    "\n",
    "\n",
    "# def MAPE(y_true, y_pred):\n",
    "#     with np.errstate(divide='ignore', invalid='ignore'):\n",
    "#         if np.isnan(null_val):\n",
    "#             mask = ~np.isnan(y_t)\n",
    "#         else:\n",
    "#             mask = np.not_equal(y_t, null_val)\n",
    "#         mask = mask.astype('float32')\n",
    "#         mask /= np.mean(mask)\n",
    "#         mape = np.abs(np.divide(np.subtract(y_p, y_t).astype('float32'),\n",
    "#                       y_t))\n",
    "#         mape = np.nan_to_num(mask * mape)\n",
    "#         return np.mean(mape)\n",
    "\n",
    "myloss=nn.MSELoss()\n",
    "optimiser=torch.optim.Adam(model.parameters(),lr=0.001)\n"
   ],
   "metadata": {
    "collapsed": false
   }
  },
  {
   "cell_type": "code",
   "execution_count": 13,
   "outputs": [],
   "source": [
    "import time\n",
    "start_time=time.time()\n",
    "hist=np.zeros(epochs)\n",
    "\n",
    "lstm=[]\n",
    "\n",
    "from torch.utils import data\n",
    "torch_dataset = data.TensorDataset(x_train_ts, y_train_ts)\n",
    "train_iter=data.DataLoader(\n",
    "    dataset=torch_dataset,\n",
    "    batch_size=batch_size,\n",
    "    shuffle=True,\n",
    "    num_workers=0\n",
    ")\n",
    "\n"
   ],
   "metadata": {
    "collapsed": false
   }
  },
  {
   "cell_type": "code",
   "execution_count": null,
   "outputs": [],
   "source": [
    "for epoch in range(epochs):\n",
    "    for inx,(X, Y) in enumerate(train_iter):\n",
    "        Y_pred=model(X)\n",
    "        loss =myloss(Y,Y_pred)\n",
    "\n",
    "        #梯度清0\n",
    "        optimiser.zero_grad()\n",
    "        #计算梯度\n",
    "        loss.backward()\n",
    "        #修改权值\n",
    "        optimiser.step()\n",
    "        if inx%100==99:\n",
    "            print(f' {inx+1}loss {loss.item():f}')\n",
    "        torch.cuda.empty_cache()\n",
    "\n",
    "\n",
    "    print('************************************')\n",
    "    print(f'epoch {epoch+1}, loss {loss.item():f}')\n",
    "    print('************************************')\n",
    "\n",
    "# for t in range(epochs):\n",
    "#\n",
    "#     y_train_pred=model(x_train)\n",
    "#\n",
    "#     loss =myloss(y_train,y_train_pred)\n",
    "#     print('Epoch',t,'MSE',loss.item())\n",
    "#     hist[t]=loss.item()\n",
    "#\n",
    "#     optimiser.zero_grad()\n",
    "#     loss.backward()\n",
    "#     optimiser.step()\n",
    "\n",
    "training_time=time.time()-start_time\n",
    "print(f'training_time{training_time}')"
   ],
   "metadata": {
    "collapsed": false
   }
  },
  {
   "cell_type": "code",
   "execution_count": 15,
   "outputs": [],
   "source": [
    "# torch.save(model, \"./mpkl/m6_lstm.pkl\")"
   ],
   "metadata": {
    "collapsed": false
   }
  },
  {
   "cell_type": "code",
   "execution_count": 16,
   "outputs": [],
   "source": [
    "\n",
    "# import torch\n",
    "# m18_LSTM= torch.load(\"./mpkl/m6_lstm.pkl\")\n"
   ],
   "metadata": {
    "collapsed": false
   }
  },
  {
   "cell_type": "code",
   "execution_count": 16,
   "outputs": [],
   "source": [],
   "metadata": {
    "collapsed": false
   }
  },
  {
   "cell_type": "code",
   "execution_count": 17,
   "outputs": [],
   "source": [
    "from sklearn.metrics import mean_absolute_percentage_error\n",
    "y_test_pred_ts = model(x_test_ts)\n",
    "y_test_pred = y_test_pred_ts.detach().cpu().numpy().reshape(480,1)\n",
    "# print(y_test_pred.shape)\n",
    "# print(test_sca[Y_columns])\n",
    "# loss=mean_absolute_percentage_error(test_sca[Y_columns],y_test_pred)\n",
    "# print('MAPE:', loss)"
   ],
   "metadata": {
    "collapsed": false
   }
  },
  {
   "cell_type": "code",
   "execution_count": 28,
   "outputs": [],
   "source": [
    "test_index=test.index\n",
    "y_test_pred_ts = model(x_test_ts)\n",
    "y_test_pred = y_test_pred_ts.detach().cpu().numpy().reshape(480,1)\n",
    "y_test_pred=scaler4.inverse_transform(y_test_pred)\n",
    "y_test_pred=pd.DataFrame(columns=['AQ'],data=y_test_pred)"
   ],
   "metadata": {
    "collapsed": false
   }
  },
  {
   "cell_type": "code",
   "execution_count": 30,
   "outputs": [
    {
     "data": {
      "text/plain": "<matplotlib.legend.Legend at 0x17ceabfd340>"
     },
     "execution_count": 30,
     "metadata": {},
     "output_type": "execute_result"
    },
    {
     "data": {
      "text/plain": "<Figure size 1080x1152 with 2 Axes>",
      "image/png": "[encoded data removed]"
     },
     "metadata": {},
     "output_type": "display_data"
    }
   ],
   "source": [
    "import seaborn as sns\n",
    "sns.set(context='paper', style='ticks')\n",
    "\n",
    "fig,axes=plt.subplots(2,1,figsize=(15,16))\n",
    "ax1=axes[0]\n",
    "ax2=axes[1]\n",
    "fig.subplots_adjust(left=0.1, right=0.8, bottom=0.1, top=0.9, wspace=0.2, hspace=0.3)\n",
    "\n",
    "\n",
    "x=test_index\n",
    "y1=y_test['AQ']\n",
    "y2=y_test_pred['AQ']\n",
    "lns1=ax1.plot(x,y1,label='y_test',marker='v',markevery=1, color='lightcoral')\n",
    "lns2=ax1.plot(x,y2,label='y_test_pred',marker='D',markevery=1, color='dodgerblue')\n",
    "ax1.tick_params(labelsize=12)\n",
    "ax1.set_xlim(0,480,1)\n",
    "ax1.set_ylim(6000,30000, 5000)\n",
    "ax1.set_xlabel('Timeindex(8h)',size=20)\n",
    "ax1.set_ylabel('AQ(m³/h)',size=20)\n",
    "ax1.set_title('m18_LSTM',size=20,fontweight='bold',loc='left')\n",
    "lns = lns1+lns2\n",
    "labs = [l.get_label() for l in lns]\n",
    "ax1.legend(lns, labs, loc=1,fontsize=12,ncol=2,frameon=False)"
   ],
   "metadata": {
    "collapsed": false
   }
  },
  {
   "cell_type": "code",
   "execution_count": 31,
   "outputs": [],
   "source": [
    "frame=pd.DataFrame()\n",
    "\n",
    "frame['ytest']=y_test_pred\n",
    "\n",
    "\n"
   ],
   "metadata": {
    "collapsed": false
   }
  },
  {
   "cell_type": "code",
   "execution_count": 32,
   "outputs": [],
   "source": [
    "frame.to_excel('../secondgoaldata/m6_LSTM.xlsx')"
   ],
   "metadata": {
    "collapsed": false
   }
  },
  {
   "cell_type": "code",
   "execution_count": 33,
   "outputs": [],
   "source": [],
   "metadata": {
    "collapsed": false
   }
  }
 ],
 "metadata": {
  "kernelspec": {
   "display_name": "Python 3",
   "language": "python",
   "name": "python3"
  },
  "language_info": {
   "codemirror_mode": {
    "name": "ipython",
    "version": 2
   },
   "file_extension": ".py",
   "mimetype": "text/x-python",
   "name": "python",
   "nbconvert_exporter": "python",
   "pygments_lexer": "ipython2",
   "version": "2.7.6"
  }
 },
 "nbformat": 4,
 "nbformat_minor": 0
}
