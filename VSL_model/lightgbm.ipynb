{
 "cells": [
  {
   "cell_type": "code",
   "execution_count": 1,
   "metadata": {
    "collapsed": true
   },
   "outputs": [],
   "source": [
    "import warnings\n",
    "warnings.filterwarnings(\"ignore\")\n",
    "import numpy as np\n",
    "import pandas as pd\n",
    "pd.set_option('display.max_columns', None)\n",
    "pd.set_option('display.max_rows', None)\n",
    "%matplotlib inline\n",
    "import  matplotlib.pyplot as plt\n",
    "import joblib\n",
    "from sklearn.metrics import mean_absolute_percentage_error\n",
    "import random\n",
    "import torch\n",
    "import os\n",
    "\n",
    "def seed_everything(seed):\n",
    "    random.seed(seed)\n",
    "    os.environ['PYTHONHASHSEED'] = str(seed)\n",
    "    np.random.seed(seed)\n",
    "    torch.manual_seed(seed)\n",
    "    torch.cuda.manual_seed(seed)\n",
    "    torch.cuda.manual_seed_all(seed)\n",
    "    torch.backends.cudnn.deterministic = True\n",
    "seed_everything(seed=521)"
   ]
  },
  {
   "cell_type": "code",
   "execution_count": 2,
   "outputs": [],
   "source": [
    "train= pd.read_excel('../dataset/pre_train.xlsx')\n",
    "test= pd.read_excel('../dataset/pre_test.xlsx')\n"
   ],
   "metadata": {
    "collapsed": false
   }
  },
  {
   "cell_type": "code",
   "execution_count": 3,
   "outputs": [
    {
     "data": {
      "text/plain": "(14208, 18)"
     },
     "execution_count": 3,
     "metadata": {},
     "output_type": "execute_result"
    }
   ],
   "source": [
    "train.shape"
   ],
   "metadata": {
    "collapsed": false
   }
  },
  {
   "cell_type": "code",
   "execution_count": 4,
   "outputs": [
    {
     "data": {
      "text/plain": "               WI_F          WI_T        WI_COD         WI_TN         WI_AN  \\\ncount  14208.000000  14208.000000  14208.000000  14208.000000  14208.000000   \nmean    1683.382025     27.813829    184.842024     35.791522     27.364368   \nstd      523.260353      1.013008     55.271241      6.002742      5.126412   \nmin      217.916363     24.517528     86.577400     17.430883     11.997580   \n25%     1199.022153     26.990108    146.412000     31.998785     23.677716   \n50%     1793.830473     27.918017    170.347500     36.298490     28.359787   \n75%     2127.908596     28.646956    213.671800     39.623632     31.143964   \nmax     3259.585664     30.095026    396.867000     69.558763     37.038204   \n\n               WO_F          WO_T        WO_COD         WO_TN         WO_AN  \\\ncount  14208.000000  14208.000000  14208.000000  14208.000000  14208.000000   \nmean    1547.411837     28.250495      6.228537     10.069905      0.031830   \nstd      598.330524      1.290882      1.677227      1.608902      0.110762   \nmin       47.077030     25.850362      1.093400      0.881280      0.001093   \n25%     1139.269904     27.006044      5.522000      8.979977      0.010757   \n50%     1531.360528     28.679910      6.432000     10.122684      0.015721   \n75%     1958.713239     29.467961      7.256200     11.203871      0.029753   \nmax     3320.082757     30.162999     18.309200     13.514503      1.476282   \n\n            AR_MLSS         AR_AN         AR_NN       AR_WIDO       AR_WODO  \\\ncount  14208.000000  14208.000000  14208.000000  14208.000000  14208.000000   \nmean    5969.336794      0.201977      8.043728      0.382990      1.282218   \nstd      228.335802      0.006275      1.632819      0.117482      0.700147   \nmin     5273.518511      0.186971      2.419740      0.002295      0.248452   \n25%     5816.183677      0.197306      7.056788      0.300399      0.786313   \n50%     5967.349452      0.202002      8.196378      0.385052      1.111968   \n75%     6112.247880      0.206661      9.218385      0.465928      1.596545   \nmax     6731.656344      0.216031     14.374467      0.937521      4.745541   \n\n               AR_F            AQ  \ncount  14208.000000  14208.000000  \nmean    4399.123510  14320.010701  \nstd       18.567990   3768.076988  \nmin     4352.285757   3293.049760  \n25%     4383.718223  11785.515967  \n50%     4398.890688  13894.344580  \n75%     4414.653484  16011.438310  \nmax     4441.656493  31900.870400  ",
      "text/html": "<div>\n<style scoped>\n    .dataframe tbody tr th:only-of-type {\n        vertical-align: middle;\n    }\n\n    .dataframe tbody tr th {\n        vertical-align: top;\n    }\n\n    .dataframe thead th {\n        text-align: right;\n    }\n</style>\n<table border=\"1\" class=\"dataframe\">\n  <thead>\n    <tr style=\"text-align: right;\">\n      <th></th>\n      <th>WI_F</th>\n      <th>WI_T</th>\n      <th>WI_COD</th>\n      <th>WI_TN</th>\n      <th>WI_AN</th>\n      <th>WO_F</th>\n      <th>WO_T</th>\n      <th>WO_COD</th>\n      <th>WO_TN</th>\n      <th>WO_AN</th>\n      <th>AR_MLSS</th>\n      <th>AR_AN</th>\n      <th>AR_NN</th>\n      <th>AR_WIDO</th>\n      <th>AR_WODO</th>\n      <th>AR_F</th>\n      <th>AQ</th>\n    </tr>\n  </thead>\n  <tbody>\n    <tr>\n      <th>count</th>\n      <td>14208.000000</td>\n      <td>14208.000000</td>\n      <td>14208.000000</td>\n      <td>14208.000000</td>\n      <td>14208.000000</td>\n      <td>14208.000000</td>\n      <td>14208.000000</td>\n      <td>14208.000000</td>\n      <td>14208.000000</td>\n      <td>14208.000000</td>\n      <td>14208.000000</td>\n      <td>14208.000000</td>\n      <td>14208.000000</td>\n      <td>14208.000000</td>\n      <td>14208.000000</td>\n      <td>14208.000000</td>\n      <td>14208.000000</td>\n    </tr>\n    <tr>\n      <th>mean</th>\n      <td>1683.382025</td>\n      <td>27.813829</td>\n      <td>184.842024</td>\n      <td>35.791522</td>\n      <td>27.364368</td>\n      <td>1547.411837</td>\n      <td>28.250495</td>\n      <td>6.228537</td>\n      <td>10.069905</td>\n      <td>0.031830</td>\n      <td>5969.336794</td>\n      <td>0.201977</td>\n      <td>8.043728</td>\n      <td>0.382990</td>\n      <td>1.282218</td>\n      <td>4399.123510</td>\n      <td>14320.010701</td>\n    </tr>\n    <tr>\n      <th>std</th>\n      <td>523.260353</td>\n      <td>1.013008</td>\n      <td>55.271241</td>\n      <td>6.002742</td>\n      <td>5.126412</td>\n      <td>598.330524</td>\n      <td>1.290882</td>\n      <td>1.677227</td>\n      <td>1.608902</td>\n      <td>0.110762</td>\n      <td>228.335802</td>\n      <td>0.006275</td>\n      <td>1.632819</td>\n      <td>0.117482</td>\n      <td>0.700147</td>\n      <td>18.567990</td>\n      <td>3768.076988</td>\n    </tr>\n    <tr>\n      <th>min</th>\n      <td>217.916363</td>\n      <td>24.517528</td>\n      <td>86.577400</td>\n      <td>17.430883</td>\n      <td>11.997580</td>\n      <td>47.077030</td>\n      <td>25.850362</td>\n      <td>1.093400</td>\n      <td>0.881280</td>\n      <td>0.001093</td>\n      <td>5273.518511</td>\n      <td>0.186971</td>\n      <td>2.419740</td>\n      <td>0.002295</td>\n      <td>0.248452</td>\n      <td>4352.285757</td>\n      <td>3293.049760</td>\n    </tr>\n    <tr>\n      <th>25%</th>\n      <td>1199.022153</td>\n      <td>26.990108</td>\n      <td>146.412000</td>\n      <td>31.998785</td>\n      <td>23.677716</td>\n      <td>1139.269904</td>\n      <td>27.006044</td>\n      <td>5.522000</td>\n      <td>8.979977</td>\n      <td>0.010757</td>\n      <td>5816.183677</td>\n      <td>0.197306</td>\n      <td>7.056788</td>\n      <td>0.300399</td>\n      <td>0.786313</td>\n      <td>4383.718223</td>\n      <td>11785.515967</td>\n    </tr>\n    <tr>\n      <th>50%</th>\n      <td>1793.830473</td>\n      <td>27.918017</td>\n      <td>170.347500</td>\n      <td>36.298490</td>\n      <td>28.359787</td>\n      <td>1531.360528</td>\n      <td>28.679910</td>\n      <td>6.432000</td>\n      <td>10.122684</td>\n      <td>0.015721</td>\n      <td>5967.349452</td>\n      <td>0.202002</td>\n      <td>8.196378</td>\n      <td>0.385052</td>\n      <td>1.111968</td>\n      <td>4398.890688</td>\n      <td>13894.344580</td>\n    </tr>\n    <tr>\n      <th>75%</th>\n      <td>2127.908596</td>\n      <td>28.646956</td>\n      <td>213.671800</td>\n      <td>39.623632</td>\n      <td>31.143964</td>\n      <td>1958.713239</td>\n      <td>29.467961</td>\n      <td>7.256200</td>\n      <td>11.203871</td>\n      <td>0.029753</td>\n      <td>6112.247880</td>\n      <td>0.206661</td>\n      <td>9.218385</td>\n      <td>0.465928</td>\n      <td>1.596545</td>\n      <td>4414.653484</td>\n      <td>16011.438310</td>\n    </tr>\n    <tr>\n      <th>max</th>\n      <td>3259.585664</td>\n      <td>30.095026</td>\n      <td>396.867000</td>\n      <td>69.558763</td>\n      <td>37.038204</td>\n      <td>3320.082757</td>\n      <td>30.162999</td>\n      <td>18.309200</td>\n      <td>13.514503</td>\n      <td>1.476282</td>\n      <td>6731.656344</td>\n      <td>0.216031</td>\n      <td>14.374467</td>\n      <td>0.937521</td>\n      <td>4.745541</td>\n      <td>4441.656493</td>\n      <td>31900.870400</td>\n    </tr>\n  </tbody>\n</table>\n</div>"
     },
     "execution_count": 4,
     "metadata": {},
     "output_type": "execute_result"
    }
   ],
   "source": [
    "train.describe()"
   ],
   "metadata": {
    "collapsed": false
   }
  },
  {
   "cell_type": "code",
   "execution_count": 5,
   "outputs": [],
   "source": [
    "ind=[i for i in train.columns][1:-1]\n",
    "# ind=['WI_F',\n",
    "#  'WI_T',\n",
    "#  'WI_COD',\n",
    "#  'WI_TN',\n",
    "#  'WI_AN',\n",
    "#  'WO_F',\n",
    "#  'WO_T',\n",
    "#  'WO_COD',\n",
    "#  'WO_TN',\n",
    "#  'WO_AN',\n",
    "#  'AR_MLSS',\n",
    "#  'AR_AN',\n",
    "#  'AR_NN',\n",
    "#  'AR_WIDO',\n",
    "#  'AR_WODO',\n",
    "#  'AR_F']\n",
    "#1  离群点删除\n",
    "def opt(opt_rate,df,threshold):\n",
    "    AQindex=[]\n",
    "    train=df\n",
    "    threshold_num=threshold*len(df)\n",
    "    for inx in ind:\n",
    "        max=train.loc[:, inx].max()\n",
    "        min=train.loc[:, inx].min()\n",
    "        diff=max-min\n",
    "        diffmin=min+opt_rate*diff\n",
    "        diffmax=min+(1-opt_rate)*diff\n",
    "        minlist=train[train[inx] < diffmin].index.values.tolist()\n",
    "        maxlist=train[train[inx] > diffmax].index.values.tolist()\n",
    "\n",
    "        if len(minlist) <= threshold_num:\n",
    "            # print(f'min{inx}')\n",
    "            # print(len(minlist))\n",
    "            for minindex in train[train[inx] < diffmin].index.values.tolist():\n",
    "                AQindex.append(minindex)\n",
    "\n",
    "        if len(maxlist) <= threshold_num:\n",
    "            # print(f'max{inx}')\n",
    "            # print(len(maxlist))\n",
    "            for maxindex in train[train[inx] > diffmax].index.values.tolist():\n",
    "                AQindex.append(maxindex)\n",
    "    AQindex=list(set(AQindex))\n",
    "    # print(AQindex)\n",
    "    AQindex=sorted(AQindex)\n",
    "    return AQindex\n",
    "optindex=opt(opt_rate=0.1,df=train,threshold=0.015)\n",
    "train=train.drop(index=optindex).reset_index(drop=True)\n"
   ],
   "metadata": {
    "collapsed": false
   }
  },
  {
   "cell_type": "code",
   "execution_count": 6,
   "outputs": [
    {
     "data": {
      "text/plain": "(12712, 18)"
     },
     "execution_count": 6,
     "metadata": {},
     "output_type": "execute_result"
    }
   ],
   "source": [
    "train.shape\n",
    "# train.describe()"
   ],
   "metadata": {
    "collapsed": false
   }
  },
  {
   "cell_type": "code",
   "execution_count": 7,
   "outputs": [],
   "source": [
    "data = pd.concat([train,test]).reset_index(drop=True)"
   ],
   "metadata": {
    "collapsed": false
   }
  },
  {
   "cell_type": "code",
   "execution_count": 8,
   "outputs": [],
   "source": [
    "#2  时间特征\n",
    "def add_datetime_feats(df):\n",
    "    df['time'] = pd.to_datetime(df['time'])\n",
    "    # df['year']=df['year'].dt.year  # 获取年\n",
    "    # df['month']=df['month'].dt.month  # 获取月\n",
    "    # df['day'] = df['time'].dt.day       # 获取天\n",
    "    df['hour'] = df['time'].dt.hour\n",
    "    df['minute']=df['time'].dt.minute  # 获取分钟\n",
    "    df['weekday']=df['time'].dt.weekday\n",
    "    df['ts']=df['hour']*60+df['minute']  # 判断是一年的第几个季度\n",
    "    return df\n",
    "\n",
    "\n",
    "data= add_datetime_feats(data)\n"
   ],
   "metadata": {
    "collapsed": false
   }
  },
  {
   "cell_type": "code",
   "execution_count": 10,
   "outputs": [],
   "source": [
    "#3 去除率指标\n",
    "data['Var_COD']=data['WI_COD']-data['WO_COD']\n",
    "data['Var_AN']=(data['WI_AN']-data['WO_AN'])\n",
    "data['Var_TN']=(data['WI_TN']-data['WO_TN'])\n",
    "data['Var_AR_DO']=data['AR_WODO']-data['AR_WIDO']\n",
    "data['Var_AR_AN']=(data['WI_AN']-data['AR_AN'])\n",
    "\n",
    "\n",
    "data['RM_COD']=(data['WI_COD']-data['WO_COD'])/data['WI_COD']\n",
    "data['RM_AN']=(data['WI_AN']-data['WO_AN'])/data['WI_AN']\n",
    "data['RM_TN']=(data['WI_TN']-data['WO_TN'])/data['WI_TN']\n",
    "data['RM_AR_DO']=(data['AR_WODO']-data['AR_WIDO'])/data['AR_WODO']\n",
    "data['RM_AR_AN']=(data['WI_AN']-data['AR_AN'])/data['WI_AN']\n"
   ],
   "metadata": {
    "collapsed": false
   }
  },
  {
   "cell_type": "code",
   "execution_count": 12,
   "outputs": [],
   "source": [
    "#4 时序上的滚动特征\n",
    "roll_cols = ['WI_F',\n",
    " 'WI_T',\n",
    " 'WI_COD',\n",
    " 'WI_TN',\n",
    " 'WI_AN',\n",
    " 'WO_F',\n",
    " 'WO_T',\n",
    " 'WO_COD',\n",
    " 'WO_TN',\n",
    " 'WO_AN',\n",
    " 'AR_MLSS',\n",
    " 'AR_AN',\n",
    " 'AR_NN',\n",
    " 'AR_WIDO',\n",
    " 'AR_WODO',\n",
    " 'AR_F']\n",
    "for i in [j for j in range(1, 6)] + [10, 15, 20, 30, 60, 120]:\n",
    "    # data[[ii+f'_delta_{i}' for ii in roll_cols]] = data[roll_cols].diff(periods=i)\n",
    "    data[[ii+f'_mean_{i}' for ii in roll_cols]] = data[roll_cols].rolling(i, min_periods=1).mean()\n",
    "# df[[ii+'_roll_8_mean' for ii in roll_cols]] = df[roll_cols].rolling(8, min_periods=1).mean()\n",
    "# df[[ii+'_roll_16_mean' for ii in roll_cols]] = df[roll_cols].rolling(16, min_periods=1).mean()\n",
    "#\n",
    "# df[[ii+'_roll_16_mean_diff' for ii in roll_cols]] = df[[ii+'_roll_16_mean' for ii in roll_cols]].diff()\n",
    "# df[[ii+'_roll_8_mean_diff' for ii in roll_cols]] = df[[ii+'_roll_8_mean' for ii in roll_cols]].diff()\n",
    "#\n",
    "# df[[ii+'_roll_8_std' for ii in roll_cols]] = df[roll_cols].rolling(8, min_periods=1).std()"
   ],
   "metadata": {
    "collapsed": false
   }
  },
  {
   "cell_type": "code",
   "execution_count": 14,
   "outputs": [],
   "source": [
    "#根据方差只保留save_rate的特征数量\n",
    "pd.set_option(\"display.max_columns\", 100)\n",
    "save_rate = 0.8\n",
    "data = data[data.describe().T.sort_values(by=\"std\", ascending=False, inplace=False).iloc[: int(len(data.columns)*save_rate)].index.tolist()]"
   ],
   "metadata": {
    "collapsed": false
   }
  },
  {
   "cell_type": "code",
   "execution_count": 16,
   "outputs": [
    {
     "name": "stdout",
     "output_type": "stream",
     "text": [
      "(12712, 166)\n"
     ]
    }
   ],
   "source": [
    "train = data.iloc[:train.shape[0]].reset_index(drop=True)\n",
    "test = data.iloc[train.shape[0]:].reset_index(drop=True)\n",
    "print(train.shape)"
   ],
   "metadata": {
    "collapsed": false
   }
  },
  {
   "cell_type": "code",
   "execution_count": 17,
   "outputs": [],
   "source": [
    "X_columns = [col for col in train.columns if col not in ['time','AQ','hour','minute','weekday','ts']]\n",
    "Y_columns =['AQ']"
   ],
   "metadata": {
    "collapsed": false
   }
  },
  {
   "cell_type": "code",
   "execution_count": 19,
   "outputs": [],
   "source": [
    "x_train=train[X_columns]\n",
    "y_train=train[Y_columns]\n",
    "x_test=test[X_columns]\n",
    "y_test=test[Y_columns]"
   ],
   "metadata": {
    "collapsed": false
   }
  },
  {
   "cell_type": "code",
   "execution_count": 21,
   "outputs": [],
   "source": [
    "import lightgbm as lgb\n",
    "from sklearn.metrics import mean_absolute_percentage_error\n",
    "import gc\n",
    "from tscv import GapKFold\n",
    "\n",
    "params = {'boosting_type': 'gbdt',\n",
    "          'objective': 'regression',\n",
    "          'min_data_in_leaf': 16,\n",
    "          'min_gain_to_split': 0.379,\n",
    "          'metric': 'mape',\n",
    "          'num_leaves': 32,\n",
    "          'max_depth': 31,\n",
    "          'learning_rate': 0.01,\n",
    "          'n_estimators': 1200,\n",
    "          'subsample': 0.8,\n",
    "          'feature_fraction': 0.70,\n",
    "          'lambda_l1': 2.7586206896551726,\n",
    "          'lambda_l2': 9.655172413793103,\n",
    "          'random_state': 2022,\n",
    "          'device': 'gpu',\n",
    "          'gpu_platform_id': 1,\n",
    "          'gpu_device_id': 0}\n",
    "folds = GapKFold(n_splits=10)\n",
    "oof = np.zeros(len(train))\n",
    "predictions = np.zeros(len(test))\n",
    "feature_importance_df = pd.DataFrame()\n"
   ],
   "metadata": {
    "collapsed": false
   }
  },
  {
   "cell_type": "code",
   "execution_count": 23,
   "outputs": [
    {
     "name": "stdout",
     "output_type": "stream",
     "text": [
      "Starting training...\n",
      "fold 1\n",
      "[LightGBM] [Info] This is the GPU trainer!!\n",
      "[LightGBM] [Info] Total Bins 41310\n",
      "[LightGBM] [Info] Number of data points in the train set: 11440, number of used features: 162\n",
      "[LightGBM] [Info] Using requested OpenCL platform 1 device 0\n",
      "[LightGBM] [Info] Using GPU Device: NVIDIA GeForce RTX 3070 Laptop GPU, Vendor: NVIDIA Corporation\n",
      "[LightGBM] [Info] Compiling OpenCL Kernel with 256 bins...\n",
      "[LightGBM] [Info] GPU programs have been built\n",
      "[LightGBM] [Info] Size of histogram bin entry: 8\n",
      "[LightGBM] [Info] 162 dense feature groups (1.79 MB) transferred to GPU in 0.013827 secs. 0 sparse feature groups\n",
      "[LightGBM] [Info] Start training from score 14224.499491\n",
      "Training until validation scores don't improve for 100 rounds\n",
      "[100]\ttraining's mape: 0.107752\tvalid_1's mape: 0.134132\n",
      "[200]\ttraining's mape: 0.071751\tvalid_1's mape: 0.127039\n",
      "[300]\ttraining's mape: 0.0545536\tvalid_1's mape: 0.119418\n",
      "[400]\ttraining's mape: 0.0457562\tvalid_1's mape: 0.113328\n",
      "[500]\ttraining's mape: 0.040882\tvalid_1's mape: 0.109651\n",
      "[600]\ttraining's mape: 0.0375014\tvalid_1's mape: 0.10773\n",
      "[700]\ttraining's mape: 0.0350735\tvalid_1's mape: 0.106485\n",
      "[800]\ttraining's mape: 0.0331462\tvalid_1's mape: 0.105638\n",
      "[900]\ttraining's mape: 0.031594\tvalid_1's mape: 0.104897\n",
      "[1000]\ttraining's mape: 0.0303035\tvalid_1's mape: 0.104463\n",
      "[1100]\ttraining's mape: 0.029136\tvalid_1's mape: 0.104204\n",
      "[1200]\ttraining's mape: 0.0281155\tvalid_1's mape: 0.103795\n",
      "Did not meet early stopping. Best iteration is:\n",
      "[1200]\ttraining's mape: 0.0281155\tvalid_1's mape: 0.103795\n",
      "fold 2\n",
      "[LightGBM] [Info] This is the GPU trainer!!\n",
      "[LightGBM] [Info] Total Bins 41310\n",
      "[LightGBM] [Info] Number of data points in the train set: 11440, number of used features: 162\n",
      "[LightGBM] [Info] Using requested OpenCL platform 1 device 0\n",
      "[LightGBM] [Info] Using GPU Device: NVIDIA GeForce RTX 3070 Laptop GPU, Vendor: NVIDIA Corporation\n",
      "[LightGBM] [Info] Compiling OpenCL Kernel with 256 bins...\n",
      "[LightGBM] [Info] GPU programs have been built\n",
      "[LightGBM] [Info] Size of histogram bin entry: 8\n",
      "[LightGBM] [Info] 162 dense feature groups (1.79 MB) transferred to GPU in 0.013068 secs. 0 sparse feature groups\n",
      "[LightGBM] [Info] Start training from score 14160.970433\n",
      "Training until validation scores don't improve for 100 rounds\n",
      "[100]\ttraining's mape: 0.1068\tvalid_1's mape: 0.133287\n",
      "[200]\ttraining's mape: 0.0712701\tvalid_1's mape: 0.112765\n",
      "[300]\ttraining's mape: 0.0542643\tvalid_1's mape: 0.103038\n",
      "[400]\ttraining's mape: 0.0455788\tvalid_1's mape: 0.0978719\n",
      "[500]\ttraining's mape: 0.040658\tvalid_1's mape: 0.0957669\n",
      "[600]\ttraining's mape: 0.0374727\tvalid_1's mape: 0.0945452\n",
      "[700]\ttraining's mape: 0.0351176\tvalid_1's mape: 0.0940628\n",
      "[800]\ttraining's mape: 0.0332479\tvalid_1's mape: 0.0937405\n",
      "[900]\ttraining's mape: 0.0316963\tvalid_1's mape: 0.093546\n",
      "[1000]\ttraining's mape: 0.0303027\tvalid_1's mape: 0.093408\n",
      "[1100]\ttraining's mape: 0.029074\tvalid_1's mape: 0.0933154\n",
      "[1200]\ttraining's mape: 0.0279696\tvalid_1's mape: 0.0932064\n",
      "Did not meet early stopping. Best iteration is:\n",
      "[1200]\ttraining's mape: 0.0279696\tvalid_1's mape: 0.0932064\n",
      "fold 3\n",
      "[LightGBM] [Info] This is the GPU trainer!!\n",
      "[LightGBM] [Info] Total Bins 41310\n",
      "[LightGBM] [Info] Number of data points in the train set: 11441, number of used features: 162\n",
      "[LightGBM] [Info] Using requested OpenCL platform 1 device 0\n",
      "[LightGBM] [Info] Using GPU Device: NVIDIA GeForce RTX 3070 Laptop GPU, Vendor: NVIDIA Corporation\n",
      "[LightGBM] [Info] Compiling OpenCL Kernel with 256 bins...\n",
      "[LightGBM] [Info] GPU programs have been built\n",
      "[LightGBM] [Info] Size of histogram bin entry: 8\n",
      "[LightGBM] [Info] 162 dense feature groups (1.79 MB) transferred to GPU in 0.013872 secs. 0 sparse feature groups\n",
      "[LightGBM] [Info] Start training from score 14144.602889\n",
      "Training until validation scores don't improve for 100 rounds\n",
      "[100]\ttraining's mape: 0.107282\tvalid_1's mape: 0.134377\n",
      "[200]\ttraining's mape: 0.0717957\tvalid_1's mape: 0.108945\n",
      "[300]\ttraining's mape: 0.0543004\tvalid_1's mape: 0.0976492\n",
      "[400]\ttraining's mape: 0.0456934\tvalid_1's mape: 0.0919123\n",
      "[500]\ttraining's mape: 0.0407716\tvalid_1's mape: 0.0889937\n",
      "[600]\ttraining's mape: 0.0374543\tvalid_1's mape: 0.0875518\n",
      "[700]\ttraining's mape: 0.0350815\tvalid_1's mape: 0.0869141\n",
      "[800]\ttraining's mape: 0.0331762\tvalid_1's mape: 0.086576\n",
      "[900]\ttraining's mape: 0.0316503\tvalid_1's mape: 0.0863429\n",
      "[1000]\ttraining's mape: 0.0303514\tvalid_1's mape: 0.0861824\n",
      "[1100]\ttraining's mape: 0.0291771\tvalid_1's mape: 0.0861654\n",
      "[1200]\ttraining's mape: 0.0281034\tvalid_1's mape: 0.0860608\n",
      "Did not meet early stopping. Best iteration is:\n",
      "[1200]\ttraining's mape: 0.0281034\tvalid_1's mape: 0.0860608\n",
      "fold 4\n",
      "[LightGBM] [Info] This is the GPU trainer!!\n",
      "[LightGBM] [Info] Total Bins 41310\n",
      "[LightGBM] [Info] Number of data points in the train set: 11441, number of used features: 162\n",
      "[LightGBM] [Info] Using requested OpenCL platform 1 device 0\n",
      "[LightGBM] [Info] Using GPU Device: NVIDIA GeForce RTX 3070 Laptop GPU, Vendor: NVIDIA Corporation\n",
      "[LightGBM] [Info] Compiling OpenCL Kernel with 256 bins...\n",
      "[LightGBM] [Info] GPU programs have been built\n",
      "[LightGBM] [Info] Size of histogram bin entry: 8\n",
      "[LightGBM] [Info] 162 dense feature groups (1.79 MB) transferred to GPU in 0.013604 secs. 0 sparse feature groups\n",
      "[LightGBM] [Info] Start training from score 14005.873539\n",
      "Training until validation scores don't improve for 100 rounds\n",
      "[100]\ttraining's mape: 0.1061\tvalid_1's mape: 0.129686\n",
      "[200]\ttraining's mape: 0.0705707\tvalid_1's mape: 0.105748\n",
      "[300]\ttraining's mape: 0.0539918\tvalid_1's mape: 0.0945845\n",
      "[400]\ttraining's mape: 0.0454148\tvalid_1's mape: 0.0885834\n",
      "[500]\ttraining's mape: 0.0405268\tvalid_1's mape: 0.0853022\n",
      "[600]\ttraining's mape: 0.0372385\tvalid_1's mape: 0.0836169\n",
      "[700]\ttraining's mape: 0.0347385\tvalid_1's mape: 0.0826257\n",
      "[800]\ttraining's mape: 0.032884\tvalid_1's mape: 0.0822598\n",
      "[900]\ttraining's mape: 0.0313436\tvalid_1's mape: 0.0820234\n",
      "[1000]\ttraining's mape: 0.0300158\tvalid_1's mape: 0.0817532\n",
      "[1100]\ttraining's mape: 0.0288709\tvalid_1's mape: 0.0815936\n",
      "[1200]\ttraining's mape: 0.0278073\tvalid_1's mape: 0.0814031\n",
      "Did not meet early stopping. Best iteration is:\n",
      "[1200]\ttraining's mape: 0.0278073\tvalid_1's mape: 0.0814031\n",
      "fold 5\n",
      "[LightGBM] [Info] This is the GPU trainer!!\n",
      "[LightGBM] [Info] Total Bins 41310\n",
      "[LightGBM] [Info] Number of data points in the train set: 11441, number of used features: 162\n",
      "[LightGBM] [Info] Using requested OpenCL platform 1 device 0\n",
      "[LightGBM] [Info] Using GPU Device: NVIDIA GeForce RTX 3070 Laptop GPU, Vendor: NVIDIA Corporation\n",
      "[LightGBM] [Info] Compiling OpenCL Kernel with 256 bins...\n",
      "[LightGBM] [Info] GPU programs have been built\n",
      "[LightGBM] [Info] Size of histogram bin entry: 8\n",
      "[LightGBM] [Info] 162 dense feature groups (1.79 MB) transferred to GPU in 0.014217 secs. 0 sparse feature groups\n",
      "[LightGBM] [Info] Start training from score 14414.370646\n",
      "Training until validation scores don't improve for 100 rounds\n",
      "[100]\ttraining's mape: 0.103718\tvalid_1's mape: 0.203405\n",
      "[200]\ttraining's mape: 0.0697666\tvalid_1's mape: 0.159449\n",
      "[300]\ttraining's mape: 0.0538137\tvalid_1's mape: 0.138367\n",
      "[400]\ttraining's mape: 0.0455777\tvalid_1's mape: 0.128789\n",
      "[500]\ttraining's mape: 0.0409185\tvalid_1's mape: 0.124875\n",
      "[600]\ttraining's mape: 0.0377002\tvalid_1's mape: 0.123264\n",
      "[700]\ttraining's mape: 0.0354015\tvalid_1's mape: 0.122415\n",
      "[800]\ttraining's mape: 0.0335568\tvalid_1's mape: 0.122259\n",
      "[900]\ttraining's mape: 0.0320448\tvalid_1's mape: 0.122264\n",
      "[1000]\ttraining's mape: 0.0306952\tvalid_1's mape: 0.122109\n",
      "Early stopping, best iteration is:\n",
      "[979]\ttraining's mape: 0.0309731\tvalid_1's mape: 0.122046\n",
      "fold 6\n",
      "[LightGBM] [Info] This is the GPU trainer!!\n",
      "[LightGBM] [Info] Total Bins 41310\n",
      "[LightGBM] [Info] Number of data points in the train set: 11441, number of used features: 162\n",
      "[LightGBM] [Info] Using requested OpenCL platform 1 device 0\n",
      "[LightGBM] [Info] Using GPU Device: NVIDIA GeForce RTX 3070 Laptop GPU, Vendor: NVIDIA Corporation\n",
      "[LightGBM] [Info] Compiling OpenCL Kernel with 256 bins...\n",
      "[LightGBM] [Info] GPU programs have been built\n",
      "[LightGBM] [Info] Size of histogram bin entry: 8\n",
      "[LightGBM] [Info] 162 dense feature groups (1.79 MB) transferred to GPU in 0.015112 secs. 0 sparse feature groups\n",
      "[LightGBM] [Info] Start training from score 14513.184691\n",
      "Training until validation scores don't improve for 100 rounds\n",
      "[100]\ttraining's mape: 0.108052\tvalid_1's mape: 0.156714\n",
      "[200]\ttraining's mape: 0.0730914\tvalid_1's mape: 0.107834\n",
      "[300]\ttraining's mape: 0.0561525\tvalid_1's mape: 0.0880022\n",
      "[400]\ttraining's mape: 0.0474411\tvalid_1's mape: 0.0816386\n",
      "[500]\ttraining's mape: 0.0424683\tvalid_1's mape: 0.0788522\n",
      "[600]\ttraining's mape: 0.0391187\tvalid_1's mape: 0.0774434\n",
      "[700]\ttraining's mape: 0.0367471\tvalid_1's mape: 0.0768946\n",
      "[800]\ttraining's mape: 0.0349047\tvalid_1's mape: 0.0766143\n",
      "Early stopping, best iteration is:\n",
      "[790]\ttraining's mape: 0.0350723\tvalid_1's mape: 0.0765642\n",
      "fold 7\n",
      "[LightGBM] [Info] This is the GPU trainer!!\n",
      "[LightGBM] [Info] Total Bins 41310\n",
      "[LightGBM] [Info] Number of data points in the train set: 11441, number of used features: 162\n",
      "[LightGBM] [Info] Using requested OpenCL platform 1 device 0\n",
      "[LightGBM] [Info] Using GPU Device: NVIDIA GeForce RTX 3070 Laptop GPU, Vendor: NVIDIA Corporation\n",
      "[LightGBM] [Info] Compiling OpenCL Kernel with 256 bins...\n",
      "[LightGBM] [Info] GPU programs have been built\n",
      "[LightGBM] [Info] Size of histogram bin entry: 8\n",
      "[LightGBM] [Info] 162 dense feature groups (1.79 MB) transferred to GPU in 0.014855 secs. 0 sparse feature groups\n",
      "[LightGBM] [Info] Start training from score 14472.328910\n",
      "Training until validation scores don't improve for 100 rounds\n",
      "[100]\ttraining's mape: 0.109479\tvalid_1's mape: 0.161101\n",
      "[200]\ttraining's mape: 0.0734615\tvalid_1's mape: 0.133975\n",
      "[300]\ttraining's mape: 0.0564645\tvalid_1's mape: 0.120752\n",
      "[400]\ttraining's mape: 0.0474476\tvalid_1's mape: 0.112955\n",
      "[500]\ttraining's mape: 0.0424144\tvalid_1's mape: 0.108538\n",
      "[600]\ttraining's mape: 0.0391915\tvalid_1's mape: 0.106148\n",
      "[700]\ttraining's mape: 0.0368058\tvalid_1's mape: 0.105228\n",
      "[800]\ttraining's mape: 0.034919\tvalid_1's mape: 0.104735\n",
      "[900]\ttraining's mape: 0.0333398\tvalid_1's mape: 0.104399\n",
      "[1000]\ttraining's mape: 0.0319796\tvalid_1's mape: 0.104246\n",
      "[1100]\ttraining's mape: 0.0307865\tvalid_1's mape: 0.103987\n",
      "[1200]\ttraining's mape: 0.0297059\tvalid_1's mape: 0.103952\n",
      "Did not meet early stopping. Best iteration is:\n",
      "[1200]\ttraining's mape: 0.0297059\tvalid_1's mape: 0.103952\n",
      "fold 8\n",
      "[LightGBM] [Info] This is the GPU trainer!!\n",
      "[LightGBM] [Info] Total Bins 41310\n",
      "[LightGBM] [Info] Number of data points in the train set: 11441, number of used features: 162\n",
      "[LightGBM] [Info] Using requested OpenCL platform 1 device 0\n",
      "[LightGBM] [Info] Using GPU Device: NVIDIA GeForce RTX 3070 Laptop GPU, Vendor: NVIDIA Corporation\n",
      "[LightGBM] [Info] Compiling OpenCL Kernel with 256 bins...\n",
      "[LightGBM] [Info] GPU programs have been built\n",
      "[LightGBM] [Info] Size of histogram bin entry: 8\n",
      "[LightGBM] [Info] 162 dense feature groups (1.79 MB) transferred to GPU in 0.012925 secs. 0 sparse feature groups\n",
      "[LightGBM] [Info] Start training from score 14318.598730\n",
      "Training until validation scores don't improve for 100 rounds\n",
      "[100]\ttraining's mape: 0.111715\tvalid_1's mape: 0.0799014\n",
      "[200]\ttraining's mape: 0.0745496\tvalid_1's mape: 0.0671999\n",
      "[300]\ttraining's mape: 0.0563801\tvalid_1's mape: 0.0637262\n",
      "[400]\ttraining's mape: 0.0474299\tvalid_1's mape: 0.063582\n",
      "Early stopping, best iteration is:\n",
      "[337]\ttraining's mape: 0.05231\tvalid_1's mape: 0.0633762\n",
      "fold 9\n",
      "[LightGBM] [Info] This is the GPU trainer!!\n",
      "[LightGBM] [Info] Total Bins 41310\n",
      "[LightGBM] [Info] Number of data points in the train set: 11441, number of used features: 162\n",
      "[LightGBM] [Info] Using requested OpenCL platform 1 device 0\n",
      "[LightGBM] [Info] Using GPU Device: NVIDIA GeForce RTX 3070 Laptop GPU, Vendor: NVIDIA Corporation\n",
      "[LightGBM] [Info] Compiling OpenCL Kernel with 256 bins...\n",
      "[LightGBM] [Info] GPU programs have been built\n",
      "[LightGBM] [Info] Size of histogram bin entry: 8\n",
      "[LightGBM] [Info] 162 dense feature groups (1.79 MB) transferred to GPU in 0.014700 secs. 0 sparse feature groups\n",
      "[LightGBM] [Info] Start training from score 14282.837116\n",
      "Training until validation scores don't improve for 100 rounds\n",
      "[100]\ttraining's mape: 0.110133\tvalid_1's mape: 0.111003\n",
      "[200]\ttraining's mape: 0.0733392\tvalid_1's mape: 0.100591\n",
      "[300]\ttraining's mape: 0.0556515\tvalid_1's mape: 0.0955984\n",
      "[400]\ttraining's mape: 0.0468949\tvalid_1's mape: 0.0933327\n",
      "[500]\ttraining's mape: 0.0420176\tvalid_1's mape: 0.0923898\n",
      "[600]\ttraining's mape: 0.0388633\tvalid_1's mape: 0.0920096\n",
      "[700]\ttraining's mape: 0.0365179\tvalid_1's mape: 0.0913359\n",
      "[800]\ttraining's mape: 0.034724\tvalid_1's mape: 0.0908759\n",
      "[900]\ttraining's mape: 0.033187\tvalid_1's mape: 0.0905485\n",
      "[1000]\ttraining's mape: 0.0318577\tvalid_1's mape: 0.0902294\n",
      "[1100]\ttraining's mape: 0.0306478\tvalid_1's mape: 0.0902377\n",
      "Early stopping, best iteration is:\n",
      "[1018]\ttraining's mape: 0.031624\tvalid_1's mape: 0.0901417\n",
      "fold 10\n",
      "[LightGBM] [Info] This is the GPU trainer!!\n",
      "[LightGBM] [Info] Total Bins 41310\n",
      "[LightGBM] [Info] Number of data points in the train set: 11441, number of used features: 162\n",
      "[LightGBM] [Info] Using requested OpenCL platform 1 device 0\n",
      "[LightGBM] [Info] Using GPU Device: NVIDIA GeForce RTX 3070 Laptop GPU, Vendor: NVIDIA Corporation\n",
      "[LightGBM] [Info] Compiling OpenCL Kernel with 256 bins...\n",
      "[LightGBM] [Info] GPU programs have been built\n",
      "[LightGBM] [Info] Size of histogram bin entry: 8\n",
      "[LightGBM] [Info] 162 dense feature groups (1.79 MB) transferred to GPU in 0.014852 secs. 0 sparse feature groups\n",
      "[LightGBM] [Info] Start training from score 14201.373582\n",
      "Training until validation scores don't improve for 100 rounds\n",
      "[100]\ttraining's mape: 0.109628\tvalid_1's mape: 0.0964781\n",
      "[200]\ttraining's mape: 0.0725031\tvalid_1's mape: 0.091597\n",
      "[300]\ttraining's mape: 0.0552394\tvalid_1's mape: 0.0894174\n",
      "[400]\ttraining's mape: 0.0465129\tvalid_1's mape: 0.0877242\n",
      "[500]\ttraining's mape: 0.0416432\tvalid_1's mape: 0.0865775\n",
      "[600]\ttraining's mape: 0.0384271\tvalid_1's mape: 0.085973\n",
      "[700]\ttraining's mape: 0.0360822\tvalid_1's mape: 0.0856362\n",
      "[800]\ttraining's mape: 0.034257\tvalid_1's mape: 0.0856984\n",
      "Early stopping, best iteration is:\n",
      "[708]\ttraining's mape: 0.0359136\tvalid_1's mape: 0.0856167\n",
      "The mape of prediction is: 0.06446066371200204\n"
     ]
    }
   ],
   "source": [
    "print('Starting training...')\n",
    "for fold_, (trn_idx, val_idx) in enumerate(folds.split(train[X_columns])):\n",
    "        print(\"fold {}\".format(fold_+1))\n",
    "        X_train = train.iloc[trn_idx][X_columns]\n",
    "        Y_train = train.iloc[trn_idx][Y_columns]\n",
    "        X_val = train.iloc[val_idx][X_columns]\n",
    "        Y_val = train.iloc[val_idx][Y_columns]\n",
    "        trn_data = lgb.Dataset(X_train, Y_train)\n",
    "        val_data = lgb.Dataset(X_val, Y_val)\n",
    "\n",
    "\n",
    "        clf = lgb.train(params,\n",
    "                        trn_data,\n",
    "                        valid_sets = [trn_data, val_data],\n",
    "                        verbose_eval=100,\n",
    "                        early_stopping_rounds = 100)\n",
    "\n",
    "\n",
    "        oof[val_idx] = np.expm1(clf.predict(train.iloc[val_idx][X_columns], num_iteration=clf.best_iteration))\n",
    "\n",
    "        fold_importance_df = pd.DataFrame()\n",
    "        fold_importance_df[\"Feature\"] = X_columns\n",
    "        fold_importance_df[\"importance\"] = clf.feature_importance()\n",
    "        fold_importance_df[\"fold\"] = fold_ + 1\n",
    "        feature_importance_df = pd.concat([feature_importance_df, fold_importance_df], axis=0)\n",
    "\n",
    "        predictions += clf.predict(test[X_columns], num_iteration=clf.best_iteration) / folds.n_splits\n",
    "        # predictions += np.expm1(clf.predict(test[X_columns], num_iteration=clf.best_iteration)) / folds.n_splits\n",
    "\n",
    "\n",
    "print('The mape of prediction is:', mean_absolute_percentage_error(test[Y_columns], predictions))"
   ],
   "metadata": {
    "collapsed": false
   }
  },
  {
   "cell_type": "code",
   "execution_count": 27,
   "outputs": [],
   "source": [
    "test_index=test.index\n",
    "y_test_pred=predictions\n",
    "y_test_pred=pd.DataFrame(columns=['AQ'],data=y_test_pred)"
   ],
   "metadata": {
    "collapsed": false
   }
  },
  {
   "cell_type": "code",
   "execution_count": 30,
   "outputs": [
    {
     "data": {
      "text/plain": "<matplotlib.legend.Legend at 0x19410c1a520>"
     },
     "execution_count": 30,
     "metadata": {},
     "output_type": "execute_result"
    },
    {
     "data": {
      "text/plain": "<Figure size 1080x1152 with 2 Axes>",
      "image/png": "[encoded data removed]"
     },
     "metadata": {},
     "output_type": "display_data"
    }
   ],
   "source": [
    "import seaborn as sns\n",
    "sns.set(context='paper', style='ticks')\n",
    "\n",
    "fig,axes=plt.subplots(2,1,figsize=(15,16))\n",
    "ax1=axes[0]\n",
    "ax2=axes[1]\n",
    "fig.subplots_adjust(left=0.1, right=0.8, bottom=0.1, top=0.9, wspace=0.2, hspace=0.3)\n",
    "\n",
    "\n",
    "x=test_index\n",
    "y1=y_test['AQ']\n",
    "y2=y_test_pred['AQ']\n",
    "lns1=ax1.plot(x,y1,label='y_test',marker='v',markevery=1, color='lightcoral')\n",
    "lns2=ax1.plot(x,y2,label='y_test_pred',marker='D',markevery=1, color='dodgerblue')\n",
    "ax1.tick_params(labelsize=12)\n",
    "ax1.set_xlim(0,480,1)\n",
    "ax1.set_ylim(6000,30000, 2000)\n",
    "ax1.set_xlabel('Timeindex(8h)',size=20)\n",
    "ax1.set_ylabel('AQ(m³/h)',size=20)\n",
    "ax1.set_title('m7_ridge',size=20,fontweight='bold',loc='left')\n",
    "lns = lns1+lns2\n",
    "labs = [l.get_label() for l in lns]\n",
    "ax1.legend(lns, labs, loc=1,fontsize=12,ncol=2,frameon=False)"
   ],
   "metadata": {
    "collapsed": false
   }
  },
  {
   "cell_type": "code",
   "execution_count": 31,
   "outputs": [],
   "source": [
    "# plt.figure(figsize=(15,8))\n",
    "# ax=plt.axes()\n",
    "# plt_x=test['time'].to_numpy()\n",
    "#     # .to_datetime().apply(lambda x: x.strftime('%Y-%m-%d'))\n",
    "# print(type(plt_x))\n",
    "# plt_y1=test[Y_columns].to_numpy()\n",
    "# print(type(plt_y1))\n",
    "# plt_y2=predictions\n",
    "# print(type(plt_y2))\n",
    "#\n",
    "# plt.ylim(0, 30000)\n",
    "# ax.plot(plt_x, plt_y1,color='r', marker='*', linestyle = '-.', lw=2, label='true') #‘s’ : 方块状\n",
    "# ax.plot(plt_x, plt_y2,color='g', marker='o', linestyle = '-.', lw=2, label='predictions')"
   ],
   "metadata": {
    "collapsed": false
   }
  },
  {
   "cell_type": "code",
   "execution_count": 34,
   "outputs": [],
   "source": [
    "frame=pd.DataFrame()\n",
    "frame['ytest']=y_test_pred\n",
    "frame.to_excel('../secondgoaldata/m9_LGBM.xlsx')"
   ],
   "metadata": {
    "collapsed": false
   }
  }
 ],
 "metadata": {
  "kernelspec": {
   "display_name": "Python 3",
   "language": "python",
   "name": "python3"
  },
  "language_info": {
   "codemirror_mode": {
    "name": "ipython",
    "version": 2
   },
   "file_extension": ".py",
   "mimetype": "text/x-python",
   "name": "python",
   "nbconvert_exporter": "python",
   "pygments_lexer": "ipython2",
   "version": "2.7.6"
  }
 },
 "nbformat": 4,
 "nbformat_minor": 0
}
